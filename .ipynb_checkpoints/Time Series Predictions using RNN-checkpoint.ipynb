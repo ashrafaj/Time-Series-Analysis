{
 "cells": [
  {
   "cell_type": "markdown",
   "metadata": {},
   "source": [
    "## Sales Figures Forecast using Recurrent Neural Network"
   ]
  },
  {
   "cell_type": "markdown",
   "metadata": {},
   "source": [
    "### Part 1 - Data Preprocessing"
   ]
  },
  {
   "cell_type": "code",
   "execution_count": 1,
   "metadata": {},
   "outputs": [],
   "source": [
    "# Importing the libraries\n",
    "import numpy as np\n",
    "import pandas as pd\n",
    "\n",
    "import matplotlib.pyplot as plt"
   ]
  },
  {
   "cell_type": "code",
   "execution_count": 2,
   "metadata": {},
   "outputs": [],
   "source": [
    "df = pd.read_csv('beer.csv', header=0)"
   ]
  },
  {
   "cell_type": "code",
   "execution_count": 3,
   "metadata": {},
   "outputs": [],
   "source": [
    "## renaming column to remove extra spaces\n",
    "df.columns = ['OzBeerSales']"
   ]
  },
  {
   "cell_type": "code",
   "execution_count": 4,
   "metadata": {},
   "outputs": [
    {
     "data": {
      "text/html": [
       "<div>\n",
       "<style scoped>\n",
       "    .dataframe tbody tr th:only-of-type {\n",
       "        vertical-align: middle;\n",
       "    }\n",
       "\n",
       "    .dataframe tbody tr th {\n",
       "        vertical-align: top;\n",
       "    }\n",
       "\n",
       "    .dataframe thead th {\n",
       "        text-align: right;\n",
       "    }\n",
       "</style>\n",
       "<table border=\"1\" class=\"dataframe\">\n",
       "  <thead>\n",
       "    <tr style=\"text-align: right;\">\n",
       "      <th></th>\n",
       "      <th>OzBeerSales</th>\n",
       "    </tr>\n",
       "  </thead>\n",
       "  <tbody>\n",
       "    <tr>\n",
       "      <th>0</th>\n",
       "      <td>284.4</td>\n",
       "    </tr>\n",
       "    <tr>\n",
       "      <th>1</th>\n",
       "      <td>212.8</td>\n",
       "    </tr>\n",
       "    <tr>\n",
       "      <th>2</th>\n",
       "      <td>226.9</td>\n",
       "    </tr>\n",
       "    <tr>\n",
       "      <th>3</th>\n",
       "      <td>308.4</td>\n",
       "    </tr>\n",
       "    <tr>\n",
       "      <th>4</th>\n",
       "      <td>262.0</td>\n",
       "    </tr>\n",
       "  </tbody>\n",
       "</table>\n",
       "</div>"
      ],
      "text/plain": [
       "   OzBeerSales\n",
       "0        284.4\n",
       "1        212.8\n",
       "2        226.9\n",
       "3        308.4\n",
       "4        262.0"
      ]
     },
     "execution_count": 4,
     "metadata": {},
     "output_type": "execute_result"
    }
   ],
   "source": [
    "df.head()"
   ]
  },
  {
   "cell_type": "code",
   "execution_count": 5,
   "metadata": {},
   "outputs": [
    {
     "name": "stdout",
     "output_type": "stream",
     "text": [
      "72\n"
     ]
    }
   ],
   "source": [
    "print(len(df))"
   ]
  },
  {
   "cell_type": "code",
   "execution_count": 6,
   "metadata": {},
   "outputs": [
    {
     "data": {
      "text/html": [
       "<div>\n",
       "<style scoped>\n",
       "    .dataframe tbody tr th:only-of-type {\n",
       "        vertical-align: middle;\n",
       "    }\n",
       "\n",
       "    .dataframe tbody tr th {\n",
       "        vertical-align: top;\n",
       "    }\n",
       "\n",
       "    .dataframe thead th {\n",
       "        text-align: right;\n",
       "    }\n",
       "</style>\n",
       "<table border=\"1\" class=\"dataframe\">\n",
       "  <thead>\n",
       "    <tr style=\"text-align: right;\">\n",
       "      <th></th>\n",
       "      <th>OzBeerSales</th>\n",
       "    </tr>\n",
       "  </thead>\n",
       "  <tbody>\n",
       "    <tr>\n",
       "      <th>count</th>\n",
       "      <td>72.000000</td>\n",
       "    </tr>\n",
       "    <tr>\n",
       "      <th>mean</th>\n",
       "      <td>329.880556</td>\n",
       "    </tr>\n",
       "    <tr>\n",
       "      <th>std</th>\n",
       "      <td>73.468385</td>\n",
       "    </tr>\n",
       "    <tr>\n",
       "      <th>min</th>\n",
       "      <td>212.800000</td>\n",
       "    </tr>\n",
       "    <tr>\n",
       "      <th>25%</th>\n",
       "      <td>272.575000</td>\n",
       "    </tr>\n",
       "    <tr>\n",
       "      <th>50%</th>\n",
       "      <td>317.500000</td>\n",
       "    </tr>\n",
       "    <tr>\n",
       "      <th>75%</th>\n",
       "      <td>379.725000</td>\n",
       "    </tr>\n",
       "    <tr>\n",
       "      <th>max</th>\n",
       "      <td>525.000000</td>\n",
       "    </tr>\n",
       "  </tbody>\n",
       "</table>\n",
       "</div>"
      ],
      "text/plain": [
       "       OzBeerSales\n",
       "count    72.000000\n",
       "mean    329.880556\n",
       "std      73.468385\n",
       "min     212.800000\n",
       "25%     272.575000\n",
       "50%     317.500000\n",
       "75%     379.725000\n",
       "max     525.000000"
      ]
     },
     "execution_count": 6,
     "metadata": {},
     "output_type": "execute_result"
    }
   ],
   "source": [
    "df.describe()"
   ]
  },
  {
   "cell_type": "markdown",
   "metadata": {},
   "source": [
    "##### Adding a date column to this time series data"
   ]
  },
  {
   "cell_type": "code",
   "execution_count": 7,
   "metadata": {},
   "outputs": [],
   "source": [
    "df['date'] = pd.date_range(start='1/1/2000', periods=len(df), freq='q')"
   ]
  },
  {
   "cell_type": "code",
   "execution_count": 8,
   "metadata": {},
   "outputs": [],
   "source": [
    "df.set_index('date', inplace=True)"
   ]
  },
  {
   "cell_type": "code",
   "execution_count": 9,
   "metadata": {},
   "outputs": [
    {
     "data": {
      "text/html": [
       "<div>\n",
       "<style scoped>\n",
       "    .dataframe tbody tr th:only-of-type {\n",
       "        vertical-align: middle;\n",
       "    }\n",
       "\n",
       "    .dataframe tbody tr th {\n",
       "        vertical-align: top;\n",
       "    }\n",
       "\n",
       "    .dataframe thead th {\n",
       "        text-align: right;\n",
       "    }\n",
       "</style>\n",
       "<table border=\"1\" class=\"dataframe\">\n",
       "  <thead>\n",
       "    <tr style=\"text-align: right;\">\n",
       "      <th></th>\n",
       "      <th>OzBeerSales</th>\n",
       "    </tr>\n",
       "    <tr>\n",
       "      <th>date</th>\n",
       "      <th></th>\n",
       "    </tr>\n",
       "  </thead>\n",
       "  <tbody>\n",
       "    <tr>\n",
       "      <th>2000-03-31</th>\n",
       "      <td>284.4</td>\n",
       "    </tr>\n",
       "    <tr>\n",
       "      <th>2000-06-30</th>\n",
       "      <td>212.8</td>\n",
       "    </tr>\n",
       "    <tr>\n",
       "      <th>2000-09-30</th>\n",
       "      <td>226.9</td>\n",
       "    </tr>\n",
       "    <tr>\n",
       "      <th>2000-12-31</th>\n",
       "      <td>308.4</td>\n",
       "    </tr>\n",
       "    <tr>\n",
       "      <th>2001-03-31</th>\n",
       "      <td>262.0</td>\n",
       "    </tr>\n",
       "  </tbody>\n",
       "</table>\n",
       "</div>"
      ],
      "text/plain": [
       "            OzBeerSales\n",
       "date                   \n",
       "2000-03-31        284.4\n",
       "2000-06-30        212.8\n",
       "2000-09-30        226.9\n",
       "2000-12-31        308.4\n",
       "2001-03-31        262.0"
      ]
     },
     "execution_count": 9,
     "metadata": {},
     "output_type": "execute_result"
    }
   ],
   "source": [
    "df.head()"
   ]
  },
  {
   "cell_type": "code",
   "execution_count": 10,
   "metadata": {},
   "outputs": [
    {
     "name": "stdout",
     "output_type": "stream",
     "text": [
      "<class 'pandas.core.frame.DataFrame'>\n",
      "DatetimeIndex: 72 entries, 2000-03-31 to 2017-12-31\n",
      "Data columns (total 1 columns):\n",
      "OzBeerSales    72 non-null float64\n",
      "dtypes: float64(1)\n",
      "memory usage: 1.1 KB\n"
     ]
    }
   ],
   "source": [
    "df.info()"
   ]
  },
  {
   "cell_type": "markdown",
   "metadata": {},
   "source": [
    "##### Plot the Sales data"
   ]
  },
  {
   "cell_type": "code",
   "execution_count": 11,
   "metadata": {},
   "outputs": [
    {
     "data": {
      "image/png": "[encoded data removed]",
      "text/plain": [
       "<Figure size 864x432 with 1 Axes>"
      ]
     },
     "metadata": {
      "needs_background": "light"
     },
     "output_type": "display_data"
    }
   ],
   "source": [
    "title  = 'Quarterly Beer Sales data'\n",
    "ylabel = 'Sales figures in million'\n",
    "xlabel = '' \n",
    "\n",
    "ax = df.plot(figsize=(12,6),title=title)\n",
    "\n",
    "ax.autoscale(axis='x',tight=True)\n",
    "ax.set(xlabel=xlabel, ylabel=ylabel);"
   ]
  },
  {
   "cell_type": "markdown",
   "metadata": {},
   "source": [
    "##### Split the data into train/test sets"
   ]
  },
  {
   "cell_type": "code",
   "execution_count": 12,
   "metadata": {},
   "outputs": [],
   "source": [
    "# Set two years for testing\n",
    "train = df.iloc[:64]\n",
    "test = df.iloc[64:]\n",
    "\n",
    "train = np.array(train)\n",
    "test = np.array(test)"
   ]
  },
  {
   "cell_type": "code",
   "execution_count": 13,
   "metadata": {},
   "outputs": [
    {
     "name": "stdout",
     "output_type": "stream",
     "text": [
      "[[284.4]\n",
      " [212.8]\n",
      " [226.9]\n",
      " [308.4]\n",
      " [262. ]\n",
      " [227.9]\n",
      " [236.1]\n",
      " [320.4]\n",
      " [271.9]\n",
      " [232.8]\n",
      " [237. ]\n",
      " [313.4]\n",
      " [261.4]\n",
      " [226.8]\n",
      " [249.9]\n",
      " [314.3]\n",
      " [286.1]\n",
      " [226.5]\n",
      " [260.4]\n",
      " [311.4]\n",
      " [294.7]\n",
      " [232.6]\n",
      " [257.2]\n",
      " [339.2]\n",
      " [279.1]\n",
      " [249.8]\n",
      " [269.8]\n",
      " [345.7]\n",
      " [293.8]\n",
      " [254.7]\n",
      " [277.5]\n",
      " [363.4]\n",
      " [313.4]\n",
      " [272.8]\n",
      " [300.1]\n",
      " [369.5]\n",
      " [330.8]\n",
      " [287.8]\n",
      " [305.9]\n",
      " [386.1]\n",
      " [335.2]\n",
      " [288. ]\n",
      " [308.3]\n",
      " [402.3]\n",
      " [352.8]\n",
      " [316.1]\n",
      " [324.9]\n",
      " [404.8]\n",
      " [393. ]\n",
      " [318.9]\n",
      " [327. ]\n",
      " [442.3]\n",
      " [383.1]\n",
      " [331.6]\n",
      " [361.4]\n",
      " [445.9]\n",
      " [386.6]\n",
      " [357.2]\n",
      " [373.6]\n",
      " [466.2]\n",
      " [409.6]\n",
      " [369.8]\n",
      " [378.6]\n",
      " [487. ]]\n",
      "\n",
      "\n",
      "[[419.2]\n",
      " [376.7]\n",
      " [392.8]\n",
      " [506.1]\n",
      " [458.4]\n",
      " [387.4]\n",
      " [426.9]\n",
      " [525. ]]\n"
     ]
    }
   ],
   "source": [
    "print(train)\n",
    "print('\\n')\n",
    "print(test)"
   ]
  },
  {
   "cell_type": "markdown",
   "metadata": {},
   "source": [
    "#### Feature Scaling"
   ]
  },
  {
   "cell_type": "code",
   "execution_count": 14,
   "metadata": {},
   "outputs": [],
   "source": [
    "from sklearn.preprocessing import MinMaxScaler\n",
    "## MinMaxScaler is used due to Sigmoid Function in RNN\n",
    "\n",
    "# set up the scaler\n",
    "scaler = MinMaxScaler()"
   ]
  },
  {
   "cell_type": "code",
   "execution_count": 15,
   "metadata": {},
   "outputs": [],
   "source": [
    "# fit the scaler to the train set, it will learn the parameters\n",
    "scaler.fit(train)\n",
    "\n",
    "# transform train and test sets\n",
    "train_scaled = scaler.transform(train)\n",
    "test_scaled = scaler.transform(test)"
   ]
  },
  {
   "cell_type": "code",
   "execution_count": 16,
   "metadata": {},
   "outputs": [
    {
     "name": "stdout",
     "output_type": "stream",
     "text": [
      "[[0.26112327]\n",
      " [0.        ]\n",
      " [0.05142232]\n",
      " [0.34865062]\n",
      " [0.17943107]\n",
      " [0.05506929]\n",
      " [0.08497447]\n",
      " [0.3924143 ]\n",
      " [0.21553611]\n",
      " [0.07293946]\n",
      " [0.08825675]\n",
      " [0.36688549]\n",
      " [0.17724289]\n",
      " [0.05105762]\n",
      " [0.1353027 ]\n",
      " [0.37016776]\n",
      " [0.26732312]\n",
      " [0.04996353]\n",
      " [0.17359592]\n",
      " [0.35959154]\n",
      " [0.29868709]\n",
      " [0.07221007]\n",
      " [0.1619256 ]\n",
      " [0.46097739]\n",
      " [0.24179431]\n",
      " [0.134938  ]\n",
      " [0.20787746]\n",
      " [0.48468271]\n",
      " [0.29540481]\n",
      " [0.15280817]\n",
      " [0.23595915]\n",
      " [0.54923414]\n",
      " [0.36688549]\n",
      " [0.21881838]\n",
      " [0.31838074]\n",
      " [0.57148067]\n",
      " [0.43034282]\n",
      " [0.27352298]\n",
      " [0.33953319]\n",
      " [0.63202042]\n",
      " [0.4463895 ]\n",
      " [0.27425237]\n",
      " [0.34828592]\n",
      " [0.69110139]\n",
      " [0.51057622]\n",
      " [0.37673231]\n",
      " [0.40882567]\n",
      " [0.70021882]\n",
      " [0.65718454]\n",
      " [0.38694384]\n",
      " [0.41648432]\n",
      " [0.83698031]\n",
      " [0.6210795 ]\n",
      " [0.43326039]\n",
      " [0.54194019]\n",
      " [0.85010941]\n",
      " [0.63384391]\n",
      " [0.5266229 ]\n",
      " [0.58643326]\n",
      " [0.92414296]\n",
      " [0.71772429]\n",
      " [0.57257476]\n",
      " [0.60466813]\n",
      " [1.        ]]\n",
      "\n",
      "\n",
      "[[0.75273523]\n",
      " [0.59773888]\n",
      " [0.65645514]\n",
      " [1.06965718]\n",
      " [0.89569657]\n",
      " [0.63676149]\n",
      " [0.78081692]\n",
      " [1.13858497]]\n"
     ]
    }
   ],
   "source": [
    "print(train_scaled)\n",
    "print('\\n')\n",
    "print(test_scaled)"
   ]
  },
  {
   "cell_type": "code",
   "execution_count": 17,
   "metadata": {},
   "outputs": [],
   "source": [
    "## Data structure with 4 timesteps and 1 output\n",
    "## 4 timesteps -> 1 year, different values should be tried for this to find optimal value\n",
    "## This model will be trained to learn from 4 timesteps to predict 5th timestep\n",
    "\n",
    "X_train = []\n",
    "y_train = []\n",
    "\n",
    "for i in range(4, 64):\n",
    "    X_train.append(train_scaled[i-4:i, 0])\n",
    "    y_train.append(train_scaled[i, 0])\n",
    "    \n",
    "X_train, y_train = np.array(X_train), np.array(y_train)"
   ]
  },
  {
   "cell_type": "code",
   "execution_count": 18,
   "metadata": {},
   "outputs": [
    {
     "name": "stdout",
     "output_type": "stream",
     "text": [
      "[[0.26112327 0.         0.05142232 0.34865062]\n",
      " [0.         0.05142232 0.34865062 0.17943107]\n",
      " [0.05142232 0.34865062 0.17943107 0.05506929]\n",
      " [0.34865062 0.17943107 0.05506929 0.08497447]\n",
      " [0.17943107 0.05506929 0.08497447 0.3924143 ]\n",
      " [0.05506929 0.08497447 0.3924143  0.21553611]\n",
      " [0.08497447 0.3924143  0.21553611 0.07293946]\n",
      " [0.3924143  0.21553611 0.07293946 0.08825675]\n",
      " [0.21553611 0.07293946 0.08825675 0.36688549]\n",
      " [0.07293946 0.08825675 0.36688549 0.17724289]\n",
      " [0.08825675 0.36688549 0.17724289 0.05105762]\n",
      " [0.36688549 0.17724289 0.05105762 0.1353027 ]\n",
      " [0.17724289 0.05105762 0.1353027  0.37016776]\n",
      " [0.05105762 0.1353027  0.37016776 0.26732312]\n",
      " [0.1353027  0.37016776 0.26732312 0.04996353]\n",
      " [0.37016776 0.26732312 0.04996353 0.17359592]\n",
      " [0.26732312 0.04996353 0.17359592 0.35959154]\n",
      " [0.04996353 0.17359592 0.35959154 0.29868709]\n",
      " [0.17359592 0.35959154 0.29868709 0.07221007]\n",
      " [0.35959154 0.29868709 0.07221007 0.1619256 ]\n",
      " [0.29868709 0.07221007 0.1619256  0.46097739]\n",
      " [0.07221007 0.1619256  0.46097739 0.24179431]\n",
      " [0.1619256  0.46097739 0.24179431 0.134938  ]\n",
      " [0.46097739 0.24179431 0.134938   0.20787746]\n",
      " [0.24179431 0.134938   0.20787746 0.48468271]\n",
      " [0.134938   0.20787746 0.48468271 0.29540481]\n",
      " [0.20787746 0.48468271 0.29540481 0.15280817]\n",
      " [0.48468271 0.29540481 0.15280817 0.23595915]\n",
      " [0.29540481 0.15280817 0.23595915 0.54923414]\n",
      " [0.15280817 0.23595915 0.54923414 0.36688549]\n",
      " [0.23595915 0.54923414 0.36688549 0.21881838]\n",
      " [0.54923414 0.36688549 0.21881838 0.31838074]\n",
      " [0.36688549 0.21881838 0.31838074 0.57148067]\n",
      " [0.21881838 0.31838074 0.57148067 0.43034282]\n",
      " [0.31838074 0.57148067 0.43034282 0.27352298]\n",
      " [0.57148067 0.43034282 0.27352298 0.33953319]\n",
      " [0.43034282 0.27352298 0.33953319 0.63202042]\n",
      " [0.27352298 0.33953319 0.63202042 0.4463895 ]\n",
      " [0.33953319 0.63202042 0.4463895  0.27425237]\n",
      " [0.63202042 0.4463895  0.27425237 0.34828592]\n",
      " [0.4463895  0.27425237 0.34828592 0.69110139]\n",
      " [0.27425237 0.34828592 0.69110139 0.51057622]\n",
      " [0.34828592 0.69110139 0.51057622 0.37673231]\n",
      " [0.69110139 0.51057622 0.37673231 0.40882567]\n",
      " [0.51057622 0.37673231 0.40882567 0.70021882]\n",
      " [0.37673231 0.40882567 0.70021882 0.65718454]\n",
      " [0.40882567 0.70021882 0.65718454 0.38694384]\n",
      " [0.70021882 0.65718454 0.38694384 0.41648432]\n",
      " [0.65718454 0.38694384 0.41648432 0.83698031]\n",
      " [0.38694384 0.41648432 0.83698031 0.6210795 ]\n",
      " [0.41648432 0.83698031 0.6210795  0.43326039]\n",
      " [0.83698031 0.6210795  0.43326039 0.54194019]\n",
      " [0.6210795  0.43326039 0.54194019 0.85010941]\n",
      " [0.43326039 0.54194019 0.85010941 0.63384391]\n",
      " [0.54194019 0.85010941 0.63384391 0.5266229 ]\n",
      " [0.85010941 0.63384391 0.5266229  0.58643326]\n",
      " [0.63384391 0.5266229  0.58643326 0.92414296]\n",
      " [0.5266229  0.58643326 0.92414296 0.71772429]\n",
      " [0.58643326 0.92414296 0.71772429 0.57257476]\n",
      " [0.92414296 0.71772429 0.57257476 0.60466813]]\n",
      "\n",
      "\n",
      "[0.17943107 0.05506929 0.08497447 0.3924143  0.21553611 0.07293946\n",
      " 0.08825675 0.36688549 0.17724289 0.05105762 0.1353027  0.37016776\n",
      " 0.26732312 0.04996353 0.17359592 0.35959154 0.29868709 0.07221007\n",
      " 0.1619256  0.46097739 0.24179431 0.134938   0.20787746 0.48468271\n",
      " 0.29540481 0.15280817 0.23595915 0.54923414 0.36688549 0.21881838\n",
      " 0.31838074 0.57148067 0.43034282 0.27352298 0.33953319 0.63202042\n",
      " 0.4463895  0.27425237 0.34828592 0.69110139 0.51057622 0.37673231\n",
      " 0.40882567 0.70021882 0.65718454 0.38694384 0.41648432 0.83698031\n",
      " 0.6210795  0.43326039 0.54194019 0.85010941 0.63384391 0.5266229\n",
      " 0.58643326 0.92414296 0.71772429 0.57257476 0.60466813 1.        ]\n"
     ]
    }
   ],
   "source": [
    "print(X_train)\n",
    "print('\\n')\n",
    "print(y_train)"
   ]
  },
  {
   "cell_type": "code",
   "execution_count": 19,
   "metadata": {},
   "outputs": [],
   "source": [
    "# Reshaping -> required as X_train is input to RNN\n",
    "\n",
    "# np.reshape(x,(a,b,c))\n",
    "# a -> number of blocks\n",
    "# b -> number of rows\n",
    "# c -> number of columns\n",
    "\n",
    "X_train = np.reshape(X_train, (X_train.shape[0], X_train.shape[1], 1))"
   ]
  },
  {
   "cell_type": "code",
   "execution_count": 20,
   "metadata": {},
   "outputs": [
    {
     "name": "stdout",
     "output_type": "stream",
     "text": [
      "60\n"
     ]
    }
   ],
   "source": [
    "print(X_train.shape[0]) "
   ]
  },
  {
   "cell_type": "code",
   "execution_count": 21,
   "metadata": {},
   "outputs": [
    {
     "name": "stdout",
     "output_type": "stream",
     "text": [
      "4\n"
     ]
    }
   ],
   "source": [
    "print(X_train.shape[1]) "
   ]
  },
  {
   "cell_type": "code",
   "execution_count": 114,
   "metadata": {},
   "outputs": [
    {
     "name": "stdout",
     "output_type": "stream",
     "text": [
      "[[[0.26112327]\n",
      "  [0.        ]\n",
      "  [0.05142232]\n",
      "  [0.34865062]]\n",
      "\n",
      " [[0.        ]\n",
      "  [0.05142232]\n",
      "  [0.34865062]\n",
      "  [0.17943107]]\n",
      "\n",
      " [[0.05142232]\n",
      "  [0.34865062]\n",
      "  [0.17943107]\n",
      "  [0.05506929]]\n",
      "\n",
      " [[0.34865062]\n",
      "  [0.17943107]\n",
      "  [0.05506929]\n",
      "  [0.08497447]]\n",
      "\n",
      " [[0.17943107]\n",
      "  [0.05506929]\n",
      "  [0.08497447]\n",
      "  [0.3924143 ]]\n",
      "\n",
      " [[0.05506929]\n",
      "  [0.08497447]\n",
      "  [0.3924143 ]\n",
      "  [0.21553611]]\n",
      "\n",
      " [[0.08497447]\n",
      "  [0.3924143 ]\n",
      "  [0.21553611]\n",
      "  [0.07293946]]\n",
      "\n",
      " [[0.3924143 ]\n",
      "  [0.21553611]\n",
      "  [0.07293946]\n",
      "  [0.08825675]]\n",
      "\n",
      " [[0.21553611]\n",
      "  [0.07293946]\n",
      "  [0.08825675]\n",
      "  [0.36688549]]\n",
      "\n",
      " [[0.07293946]\n",
      "  [0.08825675]\n",
      "  [0.36688549]\n",
      "  [0.17724289]]\n",
      "\n",
      " [[0.08825675]\n",
      "  [0.36688549]\n",
      "  [0.17724289]\n",
      "  [0.05105762]]\n",
      "\n",
      " [[0.36688549]\n",
      "  [0.17724289]\n",
      "  [0.05105762]\n",
      "  [0.1353027 ]]\n",
      "\n",
      " [[0.17724289]\n",
      "  [0.05105762]\n",
      "  [0.1353027 ]\n",
      "  [0.37016776]]\n",
      "\n",
      " [[0.05105762]\n",
      "  [0.1353027 ]\n",
      "  [0.37016776]\n",
      "  [0.26732312]]\n",
      "\n",
      " [[0.1353027 ]\n",
      "  [0.37016776]\n",
      "  [0.26732312]\n",
      "  [0.04996353]]\n",
      "\n",
      " [[0.37016776]\n",
      "  [0.26732312]\n",
      "  [0.04996353]\n",
      "  [0.17359592]]\n",
      "\n",
      " [[0.26732312]\n",
      "  [0.04996353]\n",
      "  [0.17359592]\n",
      "  [0.35959154]]\n",
      "\n",
      " [[0.04996353]\n",
      "  [0.17359592]\n",
      "  [0.35959154]\n",
      "  [0.29868709]]\n",
      "\n",
      " [[0.17359592]\n",
      "  [0.35959154]\n",
      "  [0.29868709]\n",
      "  [0.07221007]]\n",
      "\n",
      " [[0.35959154]\n",
      "  [0.29868709]\n",
      "  [0.07221007]\n",
      "  [0.1619256 ]]\n",
      "\n",
      " [[0.29868709]\n",
      "  [0.07221007]\n",
      "  [0.1619256 ]\n",
      "  [0.46097739]]\n",
      "\n",
      " [[0.07221007]\n",
      "  [0.1619256 ]\n",
      "  [0.46097739]\n",
      "  [0.24179431]]\n",
      "\n",
      " [[0.1619256 ]\n",
      "  [0.46097739]\n",
      "  [0.24179431]\n",
      "  [0.134938  ]]\n",
      "\n",
      " [[0.46097739]\n",
      "  [0.24179431]\n",
      "  [0.134938  ]\n",
      "  [0.20787746]]\n",
      "\n",
      " [[0.24179431]\n",
      "  [0.134938  ]\n",
      "  [0.20787746]\n",
      "  [0.48468271]]\n",
      "\n",
      " [[0.134938  ]\n",
      "  [0.20787746]\n",
      "  [0.48468271]\n",
      "  [0.29540481]]\n",
      "\n",
      " [[0.20787746]\n",
      "  [0.48468271]\n",
      "  [0.29540481]\n",
      "  [0.15280817]]\n",
      "\n",
      " [[0.48468271]\n",
      "  [0.29540481]\n",
      "  [0.15280817]\n",
      "  [0.23595915]]\n",
      "\n",
      " [[0.29540481]\n",
      "  [0.15280817]\n",
      "  [0.23595915]\n",
      "  [0.54923414]]\n",
      "\n",
      " [[0.15280817]\n",
      "  [0.23595915]\n",
      "  [0.54923414]\n",
      "  [0.36688549]]\n",
      "\n",
      " [[0.23595915]\n",
      "  [0.54923414]\n",
      "  [0.36688549]\n",
      "  [0.21881838]]\n",
      "\n",
      " [[0.54923414]\n",
      "  [0.36688549]\n",
      "  [0.21881838]\n",
      "  [0.31838074]]\n",
      "\n",
      " [[0.36688549]\n",
      "  [0.21881838]\n",
      "  [0.31838074]\n",
      "  [0.57148067]]\n",
      "\n",
      " [[0.21881838]\n",
      "  [0.31838074]\n",
      "  [0.57148067]\n",
      "  [0.43034282]]\n",
      "\n",
      " [[0.31838074]\n",
      "  [0.57148067]\n",
      "  [0.43034282]\n",
      "  [0.27352298]]\n",
      "\n",
      " [[0.57148067]\n",
      "  [0.43034282]\n",
      "  [0.27352298]\n",
      "  [0.33953319]]\n",
      "\n",
      " [[0.43034282]\n",
      "  [0.27352298]\n",
      "  [0.33953319]\n",
      "  [0.63202042]]\n",
      "\n",
      " [[0.27352298]\n",
      "  [0.33953319]\n",
      "  [0.63202042]\n",
      "  [0.4463895 ]]\n",
      "\n",
      " [[0.33953319]\n",
      "  [0.63202042]\n",
      "  [0.4463895 ]\n",
      "  [0.27425237]]\n",
      "\n",
      " [[0.63202042]\n",
      "  [0.4463895 ]\n",
      "  [0.27425237]\n",
      "  [0.34828592]]\n",
      "\n",
      " [[0.4463895 ]\n",
      "  [0.27425237]\n",
      "  [0.34828592]\n",
      "  [0.69110139]]\n",
      "\n",
      " [[0.27425237]\n",
      "  [0.34828592]\n",
      "  [0.69110139]\n",
      "  [0.51057622]]\n",
      "\n",
      " [[0.34828592]\n",
      "  [0.69110139]\n",
      "  [0.51057622]\n",
      "  [0.37673231]]\n",
      "\n",
      " [[0.69110139]\n",
      "  [0.51057622]\n",
      "  [0.37673231]\n",
      "  [0.40882567]]\n",
      "\n",
      " [[0.51057622]\n",
      "  [0.37673231]\n",
      "  [0.40882567]\n",
      "  [0.70021882]]\n",
      "\n",
      " [[0.37673231]\n",
      "  [0.40882567]\n",
      "  [0.70021882]\n",
      "  [0.65718454]]\n",
      "\n",
      " [[0.40882567]\n",
      "  [0.70021882]\n",
      "  [0.65718454]\n",
      "  [0.38694384]]\n",
      "\n",
      " [[0.70021882]\n",
      "  [0.65718454]\n",
      "  [0.38694384]\n",
      "  [0.41648432]]\n",
      "\n",
      " [[0.65718454]\n",
      "  [0.38694384]\n",
      "  [0.41648432]\n",
      "  [0.83698031]]\n",
      "\n",
      " [[0.38694384]\n",
      "  [0.41648432]\n",
      "  [0.83698031]\n",
      "  [0.6210795 ]]\n",
      "\n",
      " [[0.41648432]\n",
      "  [0.83698031]\n",
      "  [0.6210795 ]\n",
      "  [0.43326039]]\n",
      "\n",
      " [[0.83698031]\n",
      "  [0.6210795 ]\n",
      "  [0.43326039]\n",
      "  [0.54194019]]\n",
      "\n",
      " [[0.6210795 ]\n",
      "  [0.43326039]\n",
      "  [0.54194019]\n",
      "  [0.85010941]]\n",
      "\n",
      " [[0.43326039]\n",
      "  [0.54194019]\n",
      "  [0.85010941]\n",
      "  [0.63384391]]\n",
      "\n",
      " [[0.54194019]\n",
      "  [0.85010941]\n",
      "  [0.63384391]\n",
      "  [0.5266229 ]]\n",
      "\n",
      " [[0.85010941]\n",
      "  [0.63384391]\n",
      "  [0.5266229 ]\n",
      "  [0.58643326]]\n",
      "\n",
      " [[0.63384391]\n",
      "  [0.5266229 ]\n",
      "  [0.58643326]\n",
      "  [0.92414296]]\n",
      "\n",
      " [[0.5266229 ]\n",
      "  [0.58643326]\n",
      "  [0.92414296]\n",
      "  [0.71772429]]\n",
      "\n",
      " [[0.58643326]\n",
      "  [0.92414296]\n",
      "  [0.71772429]\n",
      "  [0.57257476]]\n",
      "\n",
      " [[0.92414296]\n",
      "  [0.71772429]\n",
      "  [0.57257476]\n",
      "  [0.60466813]]]\n"
     ]
    }
   ],
   "source": [
    "print(X_train)"
   ]
  },
  {
   "cell_type": "code",
   "execution_count": 22,
   "metadata": {},
   "outputs": [
    {
     "name": "stdout",
     "output_type": "stream",
     "text": [
      "3\n"
     ]
    }
   ],
   "source": [
    "print(X_train.ndim)"
   ]
  },
  {
   "cell_type": "markdown",
   "metadata": {},
   "source": [
    "### Part 2 - Building the RNN"
   ]
  },
  {
   "cell_type": "code",
   "execution_count": 23,
   "metadata": {},
   "outputs": [
    {
     "name": "stderr",
     "output_type": "stream",
     "text": [
      "Using TensorFlow backend.\n"
     ]
    }
   ],
   "source": [
    "# Importing libraries\n",
    "from keras.models import Sequential\n",
    "from keras.layers import Dense\n",
    "from keras.layers import LSTM\n",
    "from keras.layers import Dropout"
   ]
  },
  {
   "cell_type": "code",
   "execution_count": 24,
   "metadata": {},
   "outputs": [],
   "source": [
    "# Defining the RNN\n",
    "model = Sequential()\n",
    "\n",
    "# Input shape\n",
    "# 3D tensor with shape (batch_size, timesteps, input_dim).\n",
    "# input_dim can be more than 1 if the sales figures are correlated with other variables"
   ]
  },
  {
   "cell_type": "code",
   "execution_count": 25,
   "metadata": {},
   "outputs": [
    {
     "name": "stdout",
     "output_type": "stream",
     "text": [
      "WARNING:tensorflow:From C:\\Users\\Ashraf\\Anaconda3\\lib\\site-packages\\tensorflow\\python\\framework\\op_def_library.py:263: colocate_with (from tensorflow.python.framework.ops) is deprecated and will be removed in a future version.\n",
      "Instructions for updating:\n",
      "Colocations handled automatically by placer.\n",
      "WARNING:tensorflow:From C:\\Users\\Ashraf\\Anaconda3\\lib\\site-packages\\keras\\backend\\tensorflow_backend.py:3445: calling dropout (from tensorflow.python.ops.nn_ops) with keep_prob is deprecated and will be removed in a future version.\n",
      "Instructions for updating:\n",
      "Please use `rate` instead of `keep_prob`. Rate should be set to `rate = 1 - keep_prob`.\n"
     ]
    }
   ],
   "source": [
    "# 1st LSTM layer \n",
    "model.add(LSTM(units = 4, return_sequences = True, input_shape = (X_train.shape[1], 1)))\n",
    "\n",
    "# Dropout regularisation\n",
    "model.add(Dropout(0.25))"
   ]
  },
  {
   "cell_type": "code",
   "execution_count": 26,
   "metadata": {},
   "outputs": [],
   "source": [
    "# 2nd LSTM layer\n",
    "model.add(LSTM(units = 4, return_sequences = True))\n",
    "model.add(Dropout(0.25))"
   ]
  },
  {
   "cell_type": "code",
   "execution_count": 27,
   "metadata": {},
   "outputs": [],
   "source": [
    "# 3rd LSTM layer\n",
    "model.add(LSTM(units = 4))\n",
    "model.add(Dropout(0.25))"
   ]
  },
  {
   "cell_type": "code",
   "execution_count": 28,
   "metadata": {},
   "outputs": [],
   "source": [
    "# Output layer\n",
    "model.add(Dense(units = 1))"
   ]
  },
  {
   "cell_type": "code",
   "execution_count": 29,
   "metadata": {},
   "outputs": [],
   "source": [
    "# Compiling the RNN\n",
    "# Generally RMSprop is recommended for RNN but also compare adam\n",
    "model.compile(optimizer = 'RMSprop', loss = 'mean_squared_error')"
   ]
  },
  {
   "cell_type": "code",
   "execution_count": 30,
   "metadata": {},
   "outputs": [
    {
     "name": "stdout",
     "output_type": "stream",
     "text": [
      "WARNING:tensorflow:From C:\\Users\\Ashraf\\Anaconda3\\lib\\site-packages\\tensorflow\\python\\ops\\math_ops.py:3066: to_int32 (from tensorflow.python.ops.math_ops) is deprecated and will be removed in a future version.\n",
      "Instructions for updating:\n",
      "Use tf.cast instead.\n",
      "Epoch 1/100\n",
      "60/60 [==============================] - 6s 102ms/step - loss: 0.1744\n",
      "Epoch 2/100\n",
      "60/60 [==============================] - 0s 5ms/step - loss: 0.1277\n",
      "Epoch 3/100\n",
      "60/60 [==============================] - 0s 5ms/step - loss: 0.0998\n",
      "Epoch 4/100\n",
      "60/60 [==============================] - 0s 4ms/step - loss: 0.0856\n",
      "Epoch 5/100\n",
      "60/60 [==============================] - 0s 6ms/step - loss: 0.0598A: 0s - loss: 0.06\n",
      "Epoch 6/100\n",
      "60/60 [==============================] - 0s 5ms/step - loss: 0.0582\n",
      "Epoch 7/100\n",
      "60/60 [==============================] - 0s 5ms/step - loss: 0.0497\n",
      "Epoch 8/100\n",
      "60/60 [==============================] - 0s 4ms/step - loss: 0.0559\n",
      "Epoch 9/100\n",
      "60/60 [==============================] - 0s 4ms/step - loss: 0.0623\n",
      "Epoch 10/100\n",
      "60/60 [==============================] - 0s 5ms/step - loss: 0.0500\n",
      "Epoch 11/100\n",
      "60/60 [==============================] - 0s 5ms/step - loss: 0.0568\n",
      "Epoch 12/100\n",
      "60/60 [==============================] - 0s 5ms/step - loss: 0.0571\n",
      "Epoch 13/100\n",
      "60/60 [==============================] - 0s 4ms/step - loss: 0.0452\n",
      "Epoch 14/100\n",
      "60/60 [==============================] - 0s 6ms/step - loss: 0.0405\n",
      "Epoch 15/100\n",
      "60/60 [==============================] - ETA: 0s - loss: 0.054 - 1s 10ms/step - loss: 0.0538\n",
      "Epoch 16/100\n",
      "60/60 [==============================] - 1s 11ms/step - loss: 0.0485\n",
      "Epoch 17/100\n",
      "60/60 [==============================] - 1s 9ms/step - loss: 0.0515\n",
      "Epoch 18/100\n",
      "60/60 [==============================] - 1s 13ms/step - loss: 0.0491\n",
      "Epoch 19/100\n",
      "60/60 [==============================] - 1s 14ms/step - loss: 0.0482\n",
      "Epoch 20/100\n",
      "60/60 [==============================] - 1s 12ms/step - loss: 0.0441\n",
      "Epoch 21/100\n",
      "60/60 [==============================] - 1s 9ms/step - loss: 0.0420\n",
      "Epoch 22/100\n",
      "60/60 [==============================] - 1s 14ms/step - loss: 0.0402\n",
      "Epoch 23/100\n",
      "60/60 [==============================] - 1s 12ms/step - loss: 0.0291\n",
      "Epoch 24/100\n",
      "60/60 [==============================] - 1s 12ms/step - loss: 0.0369\n",
      "Epoch 25/100\n",
      "60/60 [==============================] - 1s 11ms/step - loss: 0.0357\n",
      "Epoch 26/100\n",
      "60/60 [==============================] - 1s 10ms/step - loss: 0.0372\n",
      "Epoch 27/100\n",
      "60/60 [==============================] - 1s 12ms/step - loss: 0.0386\n",
      "Epoch 28/100\n",
      "60/60 [==============================] - 1s 10ms/step - loss: 0.0325\n",
      "Epoch 29/100\n",
      "60/60 [==============================] - 1s 9ms/step - loss: 0.0286\n",
      "Epoch 30/100\n",
      "60/60 [==============================] - 1s 9ms/step - loss: 0.0279\n",
      "Epoch 31/100\n",
      "60/60 [==============================] - 1s 9ms/step - loss: 0.0349A: 0s - loss: 0.03\n",
      "Epoch 32/100\n",
      "60/60 [==============================] - 1s 9ms/step - loss: 0.0355\n",
      "Epoch 33/100\n",
      "60/60 [==============================] - 1s 9ms/step - loss: 0.0317\n",
      "Epoch 34/100\n",
      "60/60 [==============================] - 1s 8ms/step - loss: 0.0355\n",
      "Epoch 35/100\n",
      "60/60 [==============================] - 1s 10ms/step - loss: 0.0245\n",
      "Epoch 36/100\n",
      "60/60 [==============================] - 1s 10ms/step - loss: 0.0335\n",
      "Epoch 37/100\n",
      "60/60 [==============================] - 1s 10ms/step - loss: 0.0328\n",
      "Epoch 38/100\n",
      "60/60 [==============================] - 1s 9ms/step - loss: 0.0257\n",
      "Epoch 39/100\n",
      "60/60 [==============================] - 1s 10ms/step - loss: 0.0291\n",
      "Epoch 40/100\n",
      "60/60 [==============================] - 1s 9ms/step - loss: 0.0204\n",
      "Epoch 41/100\n",
      "60/60 [==============================] - 1s 11ms/step - loss: 0.0300\n",
      "Epoch 42/100\n",
      "60/60 [==============================] - 1s 10ms/step - loss: 0.0303\n",
      "Epoch 43/100\n",
      "60/60 [==============================] - 1s 13ms/step - loss: 0.0239\n",
      "Epoch 44/100\n",
      "60/60 [==============================] - 1s 10ms/step - loss: 0.0240\n",
      "Epoch 45/100\n",
      "60/60 [==============================] - 1s 11ms/step - loss: 0.0228\n",
      "Epoch 46/100\n",
      "60/60 [==============================] - 1s 12ms/step - loss: 0.0285\n",
      "Epoch 47/100\n",
      "60/60 [==============================] - 1s 13ms/step - loss: 0.0219\n",
      "Epoch 48/100\n",
      "60/60 [==============================] - 1s 11ms/step - loss: 0.0285\n",
      "Epoch 49/100\n",
      "60/60 [==============================] - 1s 13ms/step - loss: 0.0224\n",
      "Epoch 50/100\n",
      "60/60 [==============================] - 0s 8ms/step - loss: 0.0342\n",
      "Epoch 51/100\n",
      "60/60 [==============================] - 1s 14ms/step - loss: 0.0209\n",
      "Epoch 52/100\n",
      "60/60 [==============================] - 1s 10ms/step - loss: 0.0278\n",
      "Epoch 53/100\n",
      "60/60 [==============================] - 1s 10ms/step - loss: 0.0188\n",
      "Epoch 54/100\n",
      "60/60 [==============================] - 1s 9ms/step - loss: 0.0266\n",
      "Epoch 55/100\n",
      "60/60 [==============================] - 1s 9ms/step - loss: 0.0244\n",
      "Epoch 56/100\n",
      "60/60 [==============================] - 1s 11ms/step - loss: 0.0242\n",
      "Epoch 57/100\n",
      "60/60 [==============================] - 1s 8ms/step - loss: 0.0247\n",
      "Epoch 58/100\n",
      "60/60 [==============================] - 1s 12ms/step - loss: 0.0261\n",
      "Epoch 59/100\n",
      "60/60 [==============================] - 1s 9ms/step - loss: 0.0185\n",
      "Epoch 60/100\n",
      "60/60 [==============================] - 1s 9ms/step - loss: 0.0261\n",
      "Epoch 61/100\n",
      "60/60 [==============================] - 1s 9ms/step - loss: 0.0178\n",
      "Epoch 62/100\n",
      "60/60 [==============================] - 1s 10ms/step - loss: 0.0277\n",
      "Epoch 63/100\n",
      "60/60 [==============================] - 1s 9ms/step - loss: 0.0174\n",
      "Epoch 64/100\n",
      "60/60 [==============================] - 1s 9ms/step - loss: 0.0203\n",
      "Epoch 65/100\n",
      "60/60 [==============================] - 1s 9ms/step - loss: 0.0242\n",
      "Epoch 66/100\n",
      "60/60 [==============================] - 1s 10ms/step - loss: 0.0210\n",
      "Epoch 67/100\n",
      "60/60 [==============================] - 1s 9ms/step - loss: 0.0240\n",
      "Epoch 68/100\n",
      "60/60 [==============================] - 1s 10ms/step - loss: 0.0243\n",
      "Epoch 69/100\n",
      "60/60 [==============================] - 1s 12ms/step - loss: 0.0166: 0s - loss: \n",
      "Epoch 70/100\n",
      "60/60 [==============================] - 1s 10ms/step - loss: 0.0222\n",
      "Epoch 71/100\n",
      "60/60 [==============================] - 1s 11ms/step - loss: 0.0166\n",
      "Epoch 72/100\n",
      "60/60 [==============================] - 1s 9ms/step - loss: 0.0172\n",
      "Epoch 73/100\n",
      "60/60 [==============================] - 1s 13ms/step - loss: 0.0208: 0s - lo\n",
      "Epoch 74/100\n",
      "60/60 [==============================] - 1s 10ms/step - loss: 0.0174\n",
      "Epoch 75/100\n",
      "60/60 [==============================] - 1s 13ms/step - loss: 0.0159\n",
      "Epoch 76/100\n",
      "60/60 [==============================] - 1s 11ms/step - loss: 0.0191\n",
      "Epoch 77/100\n",
      "60/60 [==============================] - 1s 12ms/step - loss: 0.0188: 0s - loss:\n",
      "Epoch 78/100\n",
      "60/60 [==============================] - 1s 10ms/step - loss: 0.0152: 0s - loss: 0.0\n",
      "Epoch 79/100\n",
      "60/60 [==============================] - 1s 8ms/step - loss: 0.0192\n",
      "Epoch 80/100\n",
      "60/60 [==============================] - 0s 8ms/step - loss: 0.0195\n",
      "Epoch 81/100\n",
      "60/60 [==============================] - 1s 9ms/step - loss: 0.0201\n",
      "Epoch 82/100\n",
      "60/60 [==============================] - 1s 9ms/step - loss: 0.0182A: 0s - loss: 0\n",
      "Epoch 83/100\n",
      "60/60 [==============================] - 0s 8ms/step - loss: 0.0191\n",
      "Epoch 84/100\n",
      "60/60 [==============================] - 1s 9ms/step - loss: 0.0201\n",
      "Epoch 85/100\n",
      "60/60 [==============================] - 1s 9ms/step - loss: 0.0198\n",
      "Epoch 86/100\n",
      "60/60 [==============================] - 1s 8ms/step - loss: 0.0154\n",
      "Epoch 87/100\n",
      "60/60 [==============================] - 1s 8ms/step - loss: 0.0277\n",
      "Epoch 88/100\n",
      "60/60 [==============================] - 0s 8ms/step - loss: 0.0177\n",
      "Epoch 89/100\n",
      "60/60 [==============================] - 1s 9ms/step - loss: 0.0161\n",
      "Epoch 90/100\n",
      "60/60 [==============================] - 1s 9ms/step - loss: 0.0221\n",
      "Epoch 91/100\n",
      "60/60 [==============================] - 1s 8ms/step - loss: 0.0157A: 0s - loss: 0\n",
      "Epoch 92/100\n",
      "60/60 [==============================] - 1s 9ms/step - loss: 0.0169\n",
      "Epoch 93/100\n",
      "60/60 [==============================] - 1s 9ms/step - loss: 0.0175\n",
      "Epoch 94/100\n",
      "60/60 [==============================] - 1s 10ms/step - loss: 0.0230\n",
      "Epoch 95/100\n",
      "60/60 [==============================] - 1s 9ms/step - loss: 0.0186\n",
      "Epoch 96/100\n"
     ]
    },
    {
     "name": "stdout",
     "output_type": "stream",
     "text": [
      "60/60 [==============================] - 1s 12ms/step - loss: 0.0170\n",
      "Epoch 97/100\n",
      "60/60 [==============================] - 1s 9ms/step - loss: 0.0232\n",
      "Epoch 98/100\n",
      "60/60 [==============================] - 1s 9ms/step - loss: 0.0241\n",
      "Epoch 99/100\n",
      "60/60 [==============================] - 1s 9ms/step - loss: 0.0181\n",
      "Epoch 100/100\n",
      "60/60 [==============================] - 1s 10ms/step - loss: 0.0240\n"
     ]
    },
    {
     "data": {
      "text/plain": [
       "<keras.callbacks.History at 0x18b04f98>"
      ]
     },
     "execution_count": 30,
     "metadata": {},
     "output_type": "execute_result"
    }
   ],
   "source": [
    "# Fitting the RNN\n",
    "model.fit(X_train, y_train, epochs = 100, batch_size = 4)"
   ]
  },
  {
   "cell_type": "markdown",
   "metadata": {},
   "source": [
    "### Part 3 - Predictions "
   ]
  },
  {
   "cell_type": "code",
   "execution_count": 31,
   "metadata": {},
   "outputs": [],
   "source": [
    "# Using Complete dataset\n",
    "inputs = df[len(df) - len(test) - 4:].values\n",
    "inputs = inputs.reshape(-1,1)\n"
   ]
  },
  {
   "cell_type": "code",
   "execution_count": 33,
   "metadata": {},
   "outputs": [],
   "source": [
    "inputs = scaler.transform(inputs)"
   ]
  },
  {
   "cell_type": "code",
   "execution_count": 60,
   "metadata": {},
   "outputs": [],
   "source": [
    "# we are using 4 timesteps to predict 5th\n",
    "# Also to predict 8 quarters, we need to use 8+4 as our 2nd value in range below\n",
    "\n",
    "X_test = []\n",
    "for i in range(4, 12):\n",
    "    X_test.append(inputs[i-4:i, 0])   \n"
   ]
  },
  {
   "cell_type": "code",
   "execution_count": 61,
   "metadata": {},
   "outputs": [],
   "source": [
    "X_test = np.array(X_test)\n",
    "X_test = np.reshape(X_test, (X_test.shape[0], X_test.shape[1], 1))"
   ]
  },
  {
   "cell_type": "code",
   "execution_count": 62,
   "metadata": {},
   "outputs": [],
   "source": [
    "predictions = model.predict(X_test)"
   ]
  },
  {
   "cell_type": "code",
   "execution_count": 63,
   "metadata": {},
   "outputs": [],
   "source": [
    "predictions_actual = scaler.inverse_transform(predictions)"
   ]
  },
  {
   "cell_type": "code",
   "execution_count": 91,
   "metadata": {},
   "outputs": [
    {
     "name": "stdout",
     "output_type": "stream",
     "text": [
      "   Test Data  Predictions\n",
      "0   419.2000     395.3027\n",
      "1   376.7000     390.7086\n",
      "2   392.8000     413.5700\n",
      "3   506.1000     439.0870\n",
      "4   458.4000     404.6032\n",
      "5   387.4000     401.8909\n",
      "6   426.9000     429.0710\n",
      "7   525.0000     457.2743\n"
     ]
    }
   ],
   "source": [
    "df_from_array = pd.DataFrame({'Test Data': test[:, 0], 'Predictions': predictions_actual[:, 0]})\n",
    "\n",
    "pd.options.display.float_format = '{:,.4f}'.format\n",
    "print(df_from_array)"
   ]
  },
  {
   "cell_type": "markdown",
   "metadata": {},
   "source": [
    "#### Plotting Actual vs Predicted data"
   ]
  },
  {
   "cell_type": "code",
   "execution_count": 96,
   "metadata": {},
   "outputs": [
    {
     "data": {
      "image/png": "[encoded data removed]",
      "text/plain": [
       "<Figure size 432x288 with 1 Axes>"
      ]
     },
     "metadata": {
      "needs_background": "light"
     },
     "output_type": "display_data"
    }
   ],
   "source": [
    "# Plots\n",
    "\n",
    "plt.plot(test, color = 'green', label = 'Actual Sales Figures')\n",
    "plt.plot(predictions_actual, color = 'purple', label = 'Predicted Sales Figures')\n",
    "\n",
    "plt.title('Beer Sales Prediction')\n",
    "plt.xlabel('Quarters')\n",
    "plt.ylabel('Sales Figures in millions')\n",
    "\n",
    "plt.legend()\n",
    "plt.show()\n"
   ]
  },
  {
   "cell_type": "markdown",
   "metadata": {},
   "source": [
    "#### Calculating RMSE"
   ]
  },
  {
   "cell_type": "code",
   "execution_count": 98,
   "metadata": {},
   "outputs": [
    {
     "name": "stdout",
     "output_type": "stream",
     "text": [
      "40.90388005212444\n"
     ]
    }
   ],
   "source": [
    "import math\n",
    "from sklearn.metrics import mean_squared_error\n",
    "\n",
    "rmse = math.sqrt(mean_squared_error(test, predictions_actual))\n",
    "print(rmse)"
   ]
  }
 ],
 "metadata": {
  "kernelspec": {
   "display_name": "Python 3",
   "language": "python",
   "name": "python3"
  },
  "language_info": {
   "codemirror_mode": {
    "name": "ipython",
    "version": 3
   },
   "file_extension": ".py",
   "mimetype": "text/x-python",
   "name": "python",
   "nbconvert_exporter": "python",
   "pygments_lexer": "ipython3",
   "version": "3.7.1"
  }
 },
 "nbformat": 4,
 "nbformat_minor": 2
}
